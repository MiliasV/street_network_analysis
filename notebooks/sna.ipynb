{
 "cells": [
  {
   "cell_type": "markdown",
   "metadata": {},
   "source": [
    "# Compute centrality measures"
   ]
  },
  {
   "cell_type": "code",
   "execution_count": 4,
   "metadata": {},
   "outputs": [
    {
     "name": "stdout",
     "output_type": "stream",
     "text": [
      "1.1.12021-10-25 12:28:14 Configured OSMnx 1.1.1\n",
      "\n",
      "0.9.7\n",
      "2021-10-25 12:28:14 HTTP response caching is on\n"
     ]
    }
   ],
   "source": [
    "import igraph as ig\n",
    "import networkx as nx\n",
    "import numpy as np\n",
    "import pandas as pd\n",
    "import operator\n",
    "import osmnx as ox\n",
    "from sqlalchemy import create_engine\n",
    "\n",
    "%matplotlib inline\n",
    "ox.config(log_console=True)\n",
    "print(ox.__version__)\n",
    "print(ig.__version__)"
   ]
  },
  {
   "cell_type": "code",
   "execution_count": 5,
   "metadata": {},
   "outputs": [],
   "source": [
    "def compute_node_closeness_per_city(city_name, engine):\n",
    "    weight = 'length'\n",
    "    # create networkx graph\n",
    "    G_nx = ox.graph_from_place(city_name, network_type='walk')\n",
    "    osmids = list(G_nx.nodes)\n",
    "    G_nx = nx.relabel.convert_node_labels_to_integers(G_nx)\n",
    "\n",
    "    # give each node its original osmid as attribute since we relabeled them\n",
    "    osmid_values = {k:v for k, v in zip(G_nx.nodes, osmids)}\n",
    "    nx.set_node_attributes(G_nx, osmid_values, 'osmid')\n",
    "    # convert nodes to lines\n",
    "\n",
    "    print(\"Convert to igraph ...\")\n",
    "\n",
    "    # %%time\n",
    "    # convert networkx graph to igraph\n",
    "    G_ig = ig.Graph(directed=True)\n",
    "    G_ig.add_vertices(G_nx.nodes)\n",
    "    G_ig.add_edges(G_nx.edges())\n",
    "    G_ig.vs['osmid'] = osmids\n",
    "    G_ig.es[weight] = list(nx.get_edge_attributes(G_nx, weight).values())\n",
    "\n",
    "    assert len(G_nx.nodes()) == G_ig.vcount()\n",
    "    assert len(G_nx.edges()) == G_ig.ecount()\n",
    "    print(\"Calculating closeness ...\")\n",
    "\n",
    "    closeness1 = G_ig.closeness(vertices=None, mode='ALL', cutoff=None, weights=weight, normalized=True)\n",
    "    # nx.set_node_attributes(G_nx, closeness1, 'node_closeness')\n",
    "    print(\"Convert to dataframe closeness ...\")\n",
    "    gdf_nodes = ox.utils_graph.graph_to_gdfs(G_nx, nodes=True, edges=False, node_geometry=True, fill_edge_geometry=False)\n",
    "    df_nodes = pd.DataFrame({'osmid': G_ig.vs[\"osmid\"], 'node_closeness':closeness1})\n",
    "    gdf_nodes = gdf_nodes.reset_index(drop=True)\n",
    "    gdf_res = pd.merge(gdf_nodes, df_nodes, left_on='osmid', right_on='osmid', how='left')\n",
    "    gdf_res.to_postgis(\"street_node_centr_\" + city_name[0:3] , schema=city_name, con=engine)"
   ]
  },
  {
   "cell_type": "code",
   "execution_count": 6,
   "metadata": {},
   "outputs": [],
   "source": [
    "def compute_edge_betweenness_per_city(city_name, engine):\n",
    "    weight = 'length'\n",
    "    # create networkx graph\n",
    "    G_nx = ox.graph_from_place(city_name, network_type='walk')\n",
    "    osmids = list(G_nx.edges)\n",
    "    G_nx = nx.relabel.convert_node_labels_to_integers(G_nx)\n",
    "\n",
    "    # G_nx = ox.project_graph(G_nx)\n",
    "    osmid_values = {k:v for k, v in zip(G_nx.edges, osmids)}\n",
    "\n",
    "    # # give each node its original osmid as attribute since we relabeled them\n",
    "    nx.set_edge_attributes(G_nx, osmid_values, 'osmid')\n",
    "    print(\"Convert to igraph ...\")\n",
    "\n",
    "    # %%time\n",
    "    # convert networkx graph to igraph\n",
    "    G_ig = ig.Graph(directed=True)\n",
    "    G_ig.add_vertices(G_nx.nodes)\n",
    "    G_ig.add_edges(G_nx.edges())\n",
    "    G_ig.es['osmid'] = osmids\n",
    "    G_ig.es[weight] = list(nx.get_edge_attributes(G_nx, weight).values())\n",
    "\n",
    "    assert len(G_nx.nodes()) == G_ig.vcount()\n",
    "    assert len(G_nx.edges()) == G_ig.ecount()\n",
    "    print(\"Calculating closeness ...\")\n",
    "\n",
    "    betweenness = G_ig.edge_betweenness(directed=True, cutoff=None, weights=weight)\n",
    "    # nx.set_node_attributes(G_nx, closeness1, 'node_closeness')\n",
    "    # print(\"Convert to dataframe betweenness ...\")\n",
    "    gdf_edges = ox.utils_graph.graph_to_gdfs(G_nx, nodes=False, edges=True, node_geometry=False, fill_edge_geometry=True)\n",
    "    df_edges = pd.DataFrame({'osmid': G_ig.es[\"osmid\"], 'edge_betweenness':betweenness})\n",
    "    gdf_edges = gdf_edges.reset_index(drop=True)\n",
    "    gdf_res = pd.merge(gdf_edges, df_edges, left_on='osmid', right_on='osmid', how='left')\n",
    "    # gdf_res.to_postgis(\"i_street_edge_betw_\" + city_name[0:3] , schema=city_name, con=engine)\n",
    "    gdf_res.to_postgis(\"street_edge_betw_\" + city_name[0:3] , schema=city_name, con=engine)\n"
   ]
  },
  {
   "cell_type": "code",
   "execution_count": null,
   "metadata": {},
   "outputs": [],
   "source": []
  }
 ],
 "metadata": {
  "kernelspec": {
   "display_name": "Python 3 (ipykernel)",
   "language": "python",
   "name": "python3"
  },
  "language_info": {
   "codemirror_mode": {
    "name": "ipython",
    "version": 3
   },
   "file_extension": ".py",
   "mimetype": "text/x-python",
   "name": "python",
   "nbconvert_exporter": "python",
   "pygments_lexer": "ipython3",
   "version": "3.8.9"
  }
 },
 "nbformat": 4,
 "nbformat_minor": 4
}
